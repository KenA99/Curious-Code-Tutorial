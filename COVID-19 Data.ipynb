{
 "cells": [
  {
   "cell_type": "markdown",
   "metadata": {},
   "source": [
    "# COVID-19 Data Science Tutorial\n",
    "\n",
    "COVID-19 Data Tutorial from Code Curious Youtube https://youtu.be/48kdz3VDjoE using John Hopkins University Center for Systems Science and Engineering (CSSE) GitHub data https://github.com/CSSEGISandData/COVID-19."
   ]
  },
  {
   "cell_type": "code",
   "execution_count": null,
   "metadata": {},
   "outputs": [],
   "source": [
    "import pandas as pd\n",
    "import numpy as np\n",
    "import plotly.express as px"
   ]
  },
  {
   "cell_type": "code",
   "execution_count": null,
   "metadata": {},
   "outputs": [],
   "source": [
    "base_url = \"https://raw.githubusercontent.com/CSSEGISandData/COVID-19/master/csse_covid_19_data/csse_covid_19_time_series/\"\n",
    "confirmed_df = pd.read_csv(base_url + \"time_series_covid19_confirmed_global.csv\" )"
   ]
  },
  {
   "cell_type": "markdown",
   "metadata": {},
   "source": [
    "Looking at the head of the data we can see that for confirmed cases there are over one thousand columns."
   ]
  },
  {
   "cell_type": "code",
   "execution_count": null,
   "metadata": {},
   "outputs": [],
   "source": [
    "confirmed_df.head()"
   ]
  },
  {
   "cell_type": "markdown",
   "metadata": {},
   "source": [
    "Viewing the shape of the dataframe shows that there are 289 rows to 1016 columns in the dataframe. This is roughly the number of countries recongized globaly and so makes sense."
   ]
  },
  {
   "cell_type": "code",
   "execution_count": null,
   "metadata": {},
   "outputs": [],
   "source": [
    "confirmed_df.shape"
   ]
  },
  {
   "cell_type": "markdown",
   "metadata": {},
   "source": [
    "This step will clean the datafram to remove unnecessarily precise geographic information such at the latitude and longitude and the provincial/state columns."
   ]
  },
  {
   "cell_type": "code",
   "execution_count": null,
   "metadata": {},
   "outputs": [],
   "source": [
    "confirmed_df = confirmed_df.drop(columns=[\"Lat\", \"Long\", \"Province/State\"])\n",
    "confirmed_df.head()"
   ]
  },
  {
   "cell_type": "markdown",
   "metadata": {},
   "source": [
    "Next we will reduce the number of columns by merging them into rows in the same country and then relabeling the column appropriately."
   ]
  },
  {
   "cell_type": "code",
   "execution_count": null,
   "metadata": {},
   "outputs": [],
   "source": [
    "confirmed_df = confirmed_df.groupby(by=\"Country/Region\").aggregate(np.sum).T\n",
    "confirmed_df.head()"
   ]
  },
  {
   "cell_type": "code",
   "execution_count": null,
   "metadata": {},
   "outputs": [],
   "source": [
    "confirmed_df.index.name= \"Date\"\n",
    "confirmed_df = confirmed_df.reset_index()\n",
    "confirmed_df.tail()"
   ]
  },
  {
   "cell_type": "markdown",
   "metadata": {},
   "source": [
    "Having the number of columns match the number of countries is much more managable than having a thousand plus columns in the dates, but this can be cleaned up further to give a readable narrow dataframe."
   ]
  },
  {
   "cell_type": "code",
   "execution_count": null,
   "metadata": {},
   "outputs": [],
   "source": [
    "melt_confirmed_df = confirmed_df.melt(id_vars=\"Date\").copy()\n",
    "melt_confirmed_df.rename(columns={\"value\":\"Confirmed\"}, inplace=True)\n",
    "melt_confirmed_df.head()"
   ]
  },
  {
   "cell_type": "markdown",
   "metadata": {},
   "source": [
    "The date is showing as a \"object\", which is representing a string. This is not easy to manipulate so we should change it to a date to make it sortable."
   ]
  },
  {
   "cell_type": "code",
   "execution_count": null,
   "metadata": {},
   "outputs": [],
   "source": [
    "melt_confirmed_df.dtypes"
   ]
  },
  {
   "cell_type": "code",
   "execution_count": null,
   "metadata": {},
   "outputs": [],
   "source": [
    "melt_confirmed_df[\"Date\"] = pd.to_datetime(melt_confirmed_df[\"Date\"])#.dt.strftime(\"%m/%d/%Y\")\n",
    "melt_confirmed_df.tail()"
   ]
  },
  {
   "cell_type": "markdown",
   "metadata": {},
   "source": [
    "Finding today's date will allow us to see the latest totals for COVID-19 confirmed cases."
   ]
  },
  {
   "cell_type": "code",
   "execution_count": null,
   "metadata": {},
   "outputs": [],
   "source": [
    "max_date = melt_confirmed_df[\"Date\"].max()\n",
    "max_date"
   ]
  },
  {
   "cell_type": "markdown",
   "metadata": {},
   "source": [
    "After finding today's date we can create another copy containing all of the countries and regions that have confirmed totals for the most recent date and format those into a month/day/year format originally used by John Hopkins University."
   ]
  },
  {
   "cell_type": "code",
   "execution_count": null,
   "metadata": {},
   "outputs": [],
   "source": [
    "total_confirmed_df = melt_confirmed_df[melt_confirmed_df[\"Date\"]==max_date].copy()\n",
    "total_confirmed_df[\"Date\"] = pd.to_datetime(total_confirmed_df[\"Date\"]).dt.strftime(\"%m/%d/%Y\")\n",
    "total_confirmed_df.head()"
   ]
  },
  {
   "cell_type": "markdown",
   "metadata": {},
   "source": [
    "Checking the sum for today (10/30/2022) shows a close match for today's total confirmed cases and John Hopkin University Dashboard, a close match is the best that we can get since the dashboard is updated in real-time rather than the .csv files that we're working with."
   ]
  },
  {
   "cell_type": "code",
   "execution_count": null,
   "metadata": {},
   "outputs": [],
   "source": [
    "sum_confirmed = total_confirmed_df[\"Confirmed\"].sum()\n",
    "sum_confirmed"
   ]
  },
  {
   "cell_type": "markdown",
   "metadata": {},
   "source": [
    "# Visualizing the Data\n",
    "First we can start with visualizing all the data that we have. Naturally we can start with countries and the number of confirmed cases."
   ]
  },
  {
   "cell_type": "code",
   "execution_count": null,
   "metadata": {},
   "outputs": [],
   "source": [
    "fig1 = px.bar(total_confirmed_df, x=\"Country/Region\", y= \"Confirmed\")\n",
    "fig1.show()"
   ]
  },
  {
   "cell_type": "markdown",
   "metadata": {},
   "source": [
    "Looking at the top 30 countries can show the highest number of confirmed cases. Although these will likely lean toward more developed countries with better infrastructure to measure the cases present in the country."
   ]
  },
  {
   "cell_type": "code",
   "execution_count": null,
   "metadata": {},
   "outputs": [],
   "source": [
    "fig2 = px.bar(total_confirmed_df.sort_values(\"Confirmed\", ascending=False).head(30), x=\"Country/Region\", y= \"Confirmed\", text=\"Confirmed\")\n",
    "fig2.show()"
   ]
  },
  {
   "cell_type": "markdown",
   "metadata": {},
   "source": [
    "Here we can see the top countries are similar to those present on the dashboard and generally match the expecation that they would have the healthcare infrastructure to measure high numbers of cases. "
   ]
  },
  {
   "cell_type": "code",
   "execution_count": null,
   "metadata": {},
   "outputs": [],
   "source": [
    "fig3=px.scatter(melt_confirmed_df, x=\"Date\", y=\"Confirmed\", color=\"Country/Region\")\n",
    "fig3.show()"
   ]
  },
  {
   "cell_type": "code",
   "execution_count": null,
   "metadata": {},
   "outputs": [],
   "source": [
    "fig4 = px.line(melt_confirmed_df[melt_confirmed_df[\"Country/Region\"]==\"Germany\"], x=\"Date\", y=\"Confirmed\")\n",
    "fig4.show()"
   ]
  },
  {
   "cell_type": "code",
   "execution_count": null,
   "metadata": {},
   "outputs": [],
   "source": []
  }
 ],
 "metadata": {
  "kernelspec": {
   "display_name": "Python 3.10.8 64-bit (microsoft store)",
   "language": "python",
   "name": "python3"
  },
  "language_info": {
   "codemirror_mode": {
    "name": "ipython",
    "version": 3
   },
   "file_extension": ".py",
   "mimetype": "text/x-python",
   "name": "python",
   "nbconvert_exporter": "python",
   "pygments_lexer": "ipython3",
   "version": "3.10.8"
  },
  "orig_nbformat": 4,
  "vscode": {
   "interpreter": {
    "hash": "f2f99094b0592c430e86874784a2735121fb9d1e288792c28cf0b97ff724156a"
   }
  }
 },
 "nbformat": 4,
 "nbformat_minor": 2
}
